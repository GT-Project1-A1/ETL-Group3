{
 "cells": [
  {
   "cell_type": "code",
   "execution_count": null,
   "id": "f51e19d0",
   "metadata": {},
   "outputs": [],
   "source": [
    "# Dependencies\n",
    "import pandas as pd\n",
    "import os"
   ]
  },
  {
   "cell_type": "code",
   "execution_count": null,
   "id": "0bde8e1c",
   "metadata": {},
   "outputs": [],
   "source": [
    "# File Paths\n",
    "temp_csv = os.path.join(\"Data\",\"Land_Temp\",\"land_temps.csv\")\n",
    "export_csv = os.path.join(\"Data\", \"Aquaculture\", \"Exports.csv\")\n",
    "import_csv = os.path.join(\"Data\", \"Aquaculture\", \"Imports.csv\")\n",
    "catfish_trout_csv = os.path.join(\"Data\", \"Aquaculture\", \"Catfish_Trout.csv\")"
   ]
  },
  {
   "cell_type": "code",
   "execution_count": null,
   "id": "d4cceabb",
   "metadata": {},
   "outputs": [],
   "source": [
    "# Load DataFrames\n",
    "temp_df = pd.read_csv(temp_csv)\n",
    "exports_df = pd.read_csv(export_csv)\n",
    "imports_df = pd.read_csv(import_csv)\n",
    "domestic_df = pd.read_csv(catfish_trout_csv)"
   ]
  },
  {
   "cell_type": "markdown",
   "id": "b36650f8",
   "metadata": {},
   "source": [
    "## Clean Imports/Exports"
   ]
  },
  {
   "cell_type": "code",
   "execution_count": null,
   "id": "a504923d",
   "metadata": {},
   "outputs": [],
   "source": [
    "# Concat Dataframes\n",
    "commercial_df = pd.concat([imports_df, exports_df])\n",
    "# Drop Source Col\n",
    "commercial_df.drop(labels=\"SOURCE_ID\", axis=1, inplace=True)\n",
    "# Split Attribute Description\n",
    "attr_split_df = commercial_df.ATTRIBUTE_DESC.str.split(pat=\", \", expand=True)\n",
    "commercial_df[\"Direction\"] = attr_split_df.loc[:,0]\n",
    "commercial_df[\"Measure\"] = attr_split_df.loc[:,1]"
   ]
  },
  {
   "cell_type": "code",
   "execution_count": null,
   "id": "5635c9ce",
   "metadata": {},
   "outputs": [],
   "source": [
    "commercial_df"
   ]
  },
  {
   "cell_type": "markdown",
   "id": "f14fb906",
   "metadata": {},
   "source": [
    "## Clean Temperature Data\n",
    "- Split Date into columns\n",
    "- Aggregate by Month (to match commercial data)"
   ]
  },
  {
   "cell_type": "code",
   "execution_count": null,
   "id": "6b2f1447",
   "metadata": {},
   "outputs": [],
   "source": [
    "#Split 'dt' column into Year, Month, Day\n",
    "temp_dates = temp_df.dt.str.split(pat=\"-\", expand=True)\n",
    "temp_df = pd.merge(left=temp_df, right=temp_dates, how=\"left\", left_index=True, right_index=True)\n",
    "temp_df.rename(columns={0:\"YEAR_ID\", 1:\"MONTH_ID\", 2:\"DAY_ID\"}, inplace=True)\n",
    "temp_df.head()"
   ]
  },
  {
   "cell_type": "code",
   "execution_count": null,
   "id": "bbd85168",
   "metadata": {},
   "outputs": [],
   "source": [
    "# Aggregate by year/month/country\n",
    "temp_gb = temp_df.groupby(by=[\"Country\", \"YEAR_ID\", \"MONTH_ID\"])"
   ]
  },
  {
   "cell_type": "markdown",
   "id": "becfa159",
   "metadata": {},
   "source": [
    "## Align Country Names"
   ]
  },
  {
   "cell_type": "code",
   "execution_count": null,
   "id": "b8c428c0",
   "metadata": {},
   "outputs": [],
   "source": [
    "# Let's make sets of the country names\n",
    "countries_com = set(commercial_df.GEOGRAPHY_DESC)\n",
    "countries_temp = set(temp_df.Country)\n",
    "print(f\"There are {len(countries_com)} country names in the commercial dataset\")\n",
    "print(f\"There are {len(countries_temp)} country names in the temperature dataset\")"
   ]
  },
  {
   "cell_type": "code",
   "execution_count": null,
   "id": "d8d81b52",
   "metadata": {},
   "outputs": [],
   "source": [
    "#Lets see how many of the countries are in both datasets\n",
    "countries_inter = countries_com.intersection(countries_temp)\n",
    "print(f\"There are {len(countries_inter)} country names that appear in both datasets\")"
   ]
  },
  {
   "cell_type": "code",
   "execution_count": null,
   "id": "8c08182f",
   "metadata": {},
   "outputs": [],
   "source": [
    "# Since most of the temp countries fit inside of the commercial, let's see which ones do not\n",
    "print(\"The following country names from the temperature data could not be found in the commercial data:\")\n",
    "print_statement = [print(each) for each in countries_temp.difference(countries_com)]"
   ]
  },
  {
   "cell_type": "code",
   "execution_count": null,
   "id": "6eb16dd1",
   "metadata": {},
   "outputs": [],
   "source": [
    "# We are going to rename the commercial_df to match the temp_df. We could go the other direction, but... \n",
    "# The temperature data labels make more sense\n",
    "country_mapper = { \n",
    "    \"Myanmar (Burma)\" : \"Burma\",\n",
    "    \"China (Mainland)\" : \"China\",\n",
    "    \"China (Taiwan)\" : \"Taiwan\",\n",
    "    \"Congo (Kinshasa)\" : \"Congo (Democratic Republic Of The)\",\n",
    "    \"German Democratic Republic\" : \"Germany\",\n",
    "    \"Germany, Fed. Republic\" : \"Germany\",\n",
    "    \"Ivory Coast\" : \"Côte D'Ivoire\",\n",
    "    \"Republic of South Africa\" : \"South Africa\",\n",
    "}\n",
    "commercial_df.GEOGRAPHY_DESC.replace(country_mapper, inplace=True)"
   ]
  },
  {
   "cell_type": "markdown",
   "id": "5d257bb9",
   "metadata": {},
   "source": [
    "Interestingly, there were no aquacultural exports to Sudan or Syria during this time"
   ]
  },
  {
   "cell_type": "code",
   "execution_count": null,
   "id": "583a0da3",
   "metadata": {},
   "outputs": [],
   "source": [
    "# And now the only countries that remain unmatched...\n",
    "countries_com = set(commercial_df.GEOGRAPHY_DESC)\n",
    "countries_temp = set(temp_df.Country)\n",
    "print(\"These Countries could not be matched:\")\n",
    "print_statement = [print(each) for each in countries_temp.difference(countries_com)]"
   ]
  },
  {
   "cell_type": "markdown",
   "id": "02813f7d",
   "metadata": {},
   "source": [
    "There is just one issue remaining. We mapped two countries (The Germanies) onto one country name. We should also map their 'GEOGRAPHY_CODE' onto one ID as well. Let's see what the IDs are for Germany:"
   ]
  },
  {
   "cell_type": "code",
   "execution_count": null,
   "id": "fbe2b082",
   "metadata": {},
   "outputs": [],
   "source": [
    "commercial_df[commercial_df.GEOGRAPHY_DESC == \"Germany\"][\"GEOGRAPHY_CODE\"].value_counts()"
   ]
  },
  {
   "cell_type": "markdown",
   "id": "6ef28a92",
   "metadata": {},
   "source": [
    "It looks like there are only a few trades with '4290' code. This makes sense because the 'German Democratic Republic' was dissolved about a year into our commercial dataset. Let's check our intuitions..."
   ]
  },
  {
   "cell_type": "code",
   "execution_count": null,
   "id": "ad4cb3f4",
   "metadata": {},
   "outputs": [],
   "source": [
    "commercial_df[commercial_df.GEOGRAPHY_CODE == 4290]"
   ]
  },
  {
   "cell_type": "markdown",
   "id": "3090d627",
   "metadata": {},
   "source": [
    "And there we go! Isn't history fun? Ok let's get back to the Data Cleaning. We are just going to map those few communist Germans into their new united Germany"
   ]
  },
  {
   "cell_type": "code",
   "execution_count": null,
   "id": "d0ab345b",
   "metadata": {},
   "outputs": [],
   "source": [
    "commercial_df.GEOGRAPHY_CODE.replace({4290 : 4280} , inplace=True)"
   ]
  },
  {
   "cell_type": "code",
   "execution_count": null,
   "id": "fca96308",
   "metadata": {},
   "outputs": [],
   "source": [
    "commercial_df[commercial_df.GEOGRAPHY_DESC == \"Germany\"][\"GEOGRAPHY_CODE\"].value_counts()"
   ]
  },
  {
   "cell_type": "markdown",
   "id": "12276cf3",
   "metadata": {},
   "source": [
    "## Data Aggregation\n",
    "- Groupby country, species"
   ]
  },
  {
   "cell_type": "code",
   "execution_count": null,
   "id": "b14b8864",
   "metadata": {},
   "outputs": [],
   "source": []
  }
 ],
 "metadata": {
  "kernelspec": {
   "display_name": "Python [conda env:PythonData] *",
   "language": "python",
   "name": "conda-env-PythonData-py"
  },
  "language_info": {
   "codemirror_mode": {
    "name": "ipython",
    "version": 3
   },
   "file_extension": ".py",
   "mimetype": "text/x-python",
   "name": "python",
   "nbconvert_exporter": "python",
   "pygments_lexer": "ipython3",
   "version": "3.6.10"
  }
 },
 "nbformat": 4,
 "nbformat_minor": 5
}
