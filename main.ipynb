{
 "cells": [
  {
   "cell_type": "markdown",
   "id": "351028ab",
   "metadata": {},
   "source": [
    "## Intitialize"
   ]
  },
  {
   "cell_type": "code",
   "execution_count": 2,
   "id": "9c17098a",
   "metadata": {},
   "outputs": [],
   "source": [
    "# Dependencies\n",
    "import pandas as pd\n",
    "import os"
   ]
  },
  {
   "cell_type": "code",
   "execution_count": 3,
   "id": "fe437fbb",
   "metadata": {},
   "outputs": [],
   "source": [
    "# File Paths\n",
    "temp_csv = os.path.join(\"Data\",\"Land_Temp\",\"land_temps.csv\")\n",
    "export_csv = os.path.join(\"Data\", \"Aquaculture\", \"Exports.csv\")\n",
    "import_csv = os.path.join(\"Data\", \"Aquaculture\", \"Imports.csv\")"
   ]
  },
  {
   "cell_type": "code",
   "execution_count": 6,
   "id": "15265c08",
   "metadata": {},
   "outputs": [],
   "source": [
    "# Load DataFrames\n",
    "temp_df = pd.read_csv(temp_csv)\n",
    "exports_df = pd.read_csv(export_csv)\n",
    "imports_df = pd.read_csv(import_csv)"
   ]
  },
  {
   "cell_type": "markdown",
   "id": "1043c346",
   "metadata": {},
   "source": [
    "## Clean Imports/Exports"
   ]
  },
  {
   "cell_type": "code",
   "execution_count": 16,
   "id": "865efc86",
   "metadata": {},
   "outputs": [],
   "source": [
    "# Concat Dataframes\n",
    "commercial_df = pd.concat([imports_df, exports_df])\n",
    "# Drop Source Col\n",
    "commercial_df.drop(labels=\"SOURCE_ID\", axis=1, inplace=True)\n",
    "# Split Attribute Description\n",
    "attr_split_df = commercial_df.ATTRIBUTE_DESC.str.split(pat=\", \", expand=True)\n",
    "# Add Columns back to comercial df\n",
    "commercial_df[\"Direction\"] = attr_split_df.loc[:,0]\n",
    "commercial_df[\"Measure\"] = attr_split_df.loc[:,1]\n",
    "commercial_df.head()"
   ]
  },
  {
   "cell_type": "markdown",
   "id": "f14fb906",
   "metadata": {},
   "source": [
    "## Clean Temperature Data\n",
    "- Split Date into columns\n",
    "- Aggregate by Month (to match commercial data)"
   ]
  },
  {
   "cell_type": "code",
   "execution_count": 6,
   "id": "6b2f1447",
   "metadata": {},
   "outputs": [
    {
     "data": {
      "text/html": [
       "<div>\n",
       "<style scoped>\n",
       "    .dataframe tbody tr th:only-of-type {\n",
       "        vertical-align: middle;\n",
       "    }\n",
       "\n",
       "    .dataframe tbody tr th {\n",
       "        vertical-align: top;\n",
       "    }\n",
       "\n",
       "    .dataframe thead th {\n",
       "        text-align: right;\n",
       "    }\n",
       "</style>\n",
       "<table border=\"1\" class=\"dataframe\">\n",
       "  <thead>\n",
       "    <tr style=\"text-align: right;\">\n",
       "      <th></th>\n",
       "      <th>dt</th>\n",
       "      <th>AverageTemperature</th>\n",
       "      <th>AverageTemperatureUncertainty</th>\n",
       "      <th>City</th>\n",
       "      <th>Country</th>\n",
       "      <th>Latitude</th>\n",
       "      <th>Longitude</th>\n",
       "      <th>YEAR_ID</th>\n",
       "      <th>MONTH_ID</th>\n",
       "      <th>DAY_ID</th>\n",
       "    </tr>\n",
       "  </thead>\n",
       "  <tbody>\n",
       "    <tr>\n",
       "      <th>0</th>\n",
       "      <td>1849-01-01</td>\n",
       "      <td>26.704</td>\n",
       "      <td>1.435</td>\n",
       "      <td>Abidjan</td>\n",
       "      <td>Côte D'Ivoire</td>\n",
       "      <td>5.63N</td>\n",
       "      <td>3.23W</td>\n",
       "      <td>1849</td>\n",
       "      <td>01</td>\n",
       "      <td>01</td>\n",
       "    </tr>\n",
       "    <tr>\n",
       "      <th>1</th>\n",
       "      <td>1849-02-01</td>\n",
       "      <td>27.434</td>\n",
       "      <td>1.362</td>\n",
       "      <td>Abidjan</td>\n",
       "      <td>Côte D'Ivoire</td>\n",
       "      <td>5.63N</td>\n",
       "      <td>3.23W</td>\n",
       "      <td>1849</td>\n",
       "      <td>02</td>\n",
       "      <td>01</td>\n",
       "    </tr>\n",
       "    <tr>\n",
       "      <th>2</th>\n",
       "      <td>1849-03-01</td>\n",
       "      <td>28.101</td>\n",
       "      <td>1.612</td>\n",
       "      <td>Abidjan</td>\n",
       "      <td>Côte D'Ivoire</td>\n",
       "      <td>5.63N</td>\n",
       "      <td>3.23W</td>\n",
       "      <td>1849</td>\n",
       "      <td>03</td>\n",
       "      <td>01</td>\n",
       "    </tr>\n",
       "    <tr>\n",
       "      <th>3</th>\n",
       "      <td>1849-04-01</td>\n",
       "      <td>26.140</td>\n",
       "      <td>1.387</td>\n",
       "      <td>Abidjan</td>\n",
       "      <td>Côte D'Ivoire</td>\n",
       "      <td>5.63N</td>\n",
       "      <td>3.23W</td>\n",
       "      <td>1849</td>\n",
       "      <td>04</td>\n",
       "      <td>01</td>\n",
       "    </tr>\n",
       "    <tr>\n",
       "      <th>4</th>\n",
       "      <td>1849-05-01</td>\n",
       "      <td>25.427</td>\n",
       "      <td>1.200</td>\n",
       "      <td>Abidjan</td>\n",
       "      <td>Côte D'Ivoire</td>\n",
       "      <td>5.63N</td>\n",
       "      <td>3.23W</td>\n",
       "      <td>1849</td>\n",
       "      <td>05</td>\n",
       "      <td>01</td>\n",
       "    </tr>\n",
       "  </tbody>\n",
       "</table>\n",
       "</div>"
      ],
      "text/plain": [
       "           dt  AverageTemperature  AverageTemperatureUncertainty     City  \\\n",
       "0  1849-01-01              26.704                          1.435  Abidjan   \n",
       "1  1849-02-01              27.434                          1.362  Abidjan   \n",
       "2  1849-03-01              28.101                          1.612  Abidjan   \n",
       "3  1849-04-01              26.140                          1.387  Abidjan   \n",
       "4  1849-05-01              25.427                          1.200  Abidjan   \n",
       "\n",
       "         Country Latitude Longitude YEAR_ID MONTH_ID DAY_ID  \n",
       "0  Côte D'Ivoire    5.63N     3.23W    1849       01     01  \n",
       "1  Côte D'Ivoire    5.63N     3.23W    1849       02     01  \n",
       "2  Côte D'Ivoire    5.63N     3.23W    1849       03     01  \n",
       "3  Côte D'Ivoire    5.63N     3.23W    1849       04     01  \n",
       "4  Côte D'Ivoire    5.63N     3.23W    1849       05     01  "
      ]
     },
     "execution_count": 6,
     "metadata": {},
     "output_type": "execute_result"
    }
   ],
   "source": [
    "#Split 'dt' column into Year, Month, Day\n",
    "temp_dates = temp_df.dt.str.split(pat=\"-\", expand=True)\n",
    "temp_df = pd.merge(left=temp_df, right=temp_dates, how=\"left\", left_index=True, right_index=True)\n",
    "temp_df.rename(columns={0:\"YEAR_ID\", 1:\"MONTH_ID\", 2:\"DAY_ID\"}, inplace=True)\n",
    "temp_df.head()"
   ]
  },
  {
   "cell_type": "code",
   "execution_count": 20,
   "id": "bbd85168",
   "metadata": {},
   "outputs": [
    {
     "data": {
      "text/html": [
       "<div>\n",
       "<style scoped>\n",
       "    .dataframe tbody tr th:only-of-type {\n",
       "        vertical-align: middle;\n",
       "    }\n",
       "\n",
       "    .dataframe tbody tr th {\n",
       "        vertical-align: top;\n",
       "    }\n",
       "\n",
       "    .dataframe thead th {\n",
       "        text-align: right;\n",
       "    }\n",
       "</style>\n",
       "<table border=\"1\" class=\"dataframe\">\n",
       "  <thead>\n",
       "    <tr style=\"text-align: right;\">\n",
       "      <th></th>\n",
       "      <th>Country</th>\n",
       "      <th>YEAR_ID</th>\n",
       "      <th>MONTH_ID</th>\n",
       "      <th>AverageTemperature</th>\n",
       "    </tr>\n",
       "  </thead>\n",
       "  <tbody>\n",
       "    <tr>\n",
       "      <th>0</th>\n",
       "      <td>Afghanistan</td>\n",
       "      <td>1833</td>\n",
       "      <td>01</td>\n",
       "      <td>2.290</td>\n",
       "    </tr>\n",
       "    <tr>\n",
       "      <th>1</th>\n",
       "      <td>Afghanistan</td>\n",
       "      <td>1833</td>\n",
       "      <td>02</td>\n",
       "      <td>3.319</td>\n",
       "    </tr>\n",
       "    <tr>\n",
       "      <th>2</th>\n",
       "      <td>Afghanistan</td>\n",
       "      <td>1833</td>\n",
       "      <td>03</td>\n",
       "      <td>7.444</td>\n",
       "    </tr>\n",
       "    <tr>\n",
       "      <th>3</th>\n",
       "      <td>Afghanistan</td>\n",
       "      <td>1833</td>\n",
       "      <td>04</td>\n",
       "      <td>13.576</td>\n",
       "    </tr>\n",
       "    <tr>\n",
       "      <th>4</th>\n",
       "      <td>Afghanistan</td>\n",
       "      <td>1833</td>\n",
       "      <td>05</td>\n",
       "      <td>19.321</td>\n",
       "    </tr>\n",
       "    <tr>\n",
       "      <th>...</th>\n",
       "      <td>...</td>\n",
       "      <td>...</td>\n",
       "      <td>...</td>\n",
       "      <td>...</td>\n",
       "    </tr>\n",
       "    <tr>\n",
       "      <th>117394</th>\n",
       "      <td>Zimbabwe</td>\n",
       "      <td>2013</td>\n",
       "      <td>05</td>\n",
       "      <td>18.298</td>\n",
       "    </tr>\n",
       "    <tr>\n",
       "      <th>117395</th>\n",
       "      <td>Zimbabwe</td>\n",
       "      <td>2013</td>\n",
       "      <td>06</td>\n",
       "      <td>17.020</td>\n",
       "    </tr>\n",
       "    <tr>\n",
       "      <th>117396</th>\n",
       "      <td>Zimbabwe</td>\n",
       "      <td>2013</td>\n",
       "      <td>07</td>\n",
       "      <td>16.299</td>\n",
       "    </tr>\n",
       "    <tr>\n",
       "      <th>117397</th>\n",
       "      <td>Zimbabwe</td>\n",
       "      <td>2013</td>\n",
       "      <td>08</td>\n",
       "      <td>19.232</td>\n",
       "    </tr>\n",
       "    <tr>\n",
       "      <th>117398</th>\n",
       "      <td>Zimbabwe</td>\n",
       "      <td>2013</td>\n",
       "      <td>09</td>\n",
       "      <td>NaN</td>\n",
       "    </tr>\n",
       "  </tbody>\n",
       "</table>\n",
       "<p>117399 rows × 4 columns</p>\n",
       "</div>"
      ],
      "text/plain": [
       "            Country YEAR_ID MONTH_ID  AverageTemperature\n",
       "0       Afghanistan    1833       01               2.290\n",
       "1       Afghanistan    1833       02               3.319\n",
       "2       Afghanistan    1833       03               7.444\n",
       "3       Afghanistan    1833       04              13.576\n",
       "4       Afghanistan    1833       05              19.321\n",
       "...             ...     ...      ...                 ...\n",
       "117394     Zimbabwe    2013       05              18.298\n",
       "117395     Zimbabwe    2013       06              17.020\n",
       "117396     Zimbabwe    2013       07              16.299\n",
       "117397     Zimbabwe    2013       08              19.232\n",
       "117398     Zimbabwe    2013       09                 NaN\n",
       "\n",
       "[117399 rows x 4 columns]"
      ]
     },
     "execution_count": 20,
     "metadata": {},
     "output_type": "execute_result"
    }
   ],
   "source": [
    "# Aggregate by year/month/country\n",
    "temp_gb = temp_df.groupby(by=[\"Country\", \"YEAR_ID\", \"MONTH_ID\"])\n",
    "agg_temp_df = temp_gb[\"AverageTemperature\"].mean()\n",
    "agg_temp_df = agg_temp_df.reset_index()\n",
    "agg_temp_df.head()"
   ]
  },
  {
   "cell_type": "markdown",
   "id": "becfa159",
   "metadata": {},
   "source": [
    "## Align Country Names"
   ]
  },
  {
   "cell_type": "code",
   "execution_count": 8,
   "id": "b8c428c0",
   "metadata": {},
   "outputs": [
    {
     "name": "stdout",
     "output_type": "stream",
     "text": [
      "There are 225 country names in the commercial dataset\n",
      "There are 49 country names in the temperature dataset\n"
     ]
    }
   ],
   "source": [
    "# Let's make sets of the country names\n",
    "countries_com = set(commercial_df.GEOGRAPHY_DESC)\n",
    "countries_temp = set(temp_df.Country)\n",
    "print(f\"There are {len(countries_com)} country names in the commercial dataset\")\n",
    "print(f\"There are {len(countries_temp)} country names in the temperature dataset\")"
   ]
  },
  {
   "cell_type": "code",
   "execution_count": 9,
   "id": "d8d81b52",
   "metadata": {},
   "outputs": [
    {
     "name": "stdout",
     "output_type": "stream",
     "text": [
      "There are 39 country names that appear in both datasets\n"
     ]
    }
   ],
   "source": [
    "#Lets see how many of the countries are in both datasets\n",
    "countries_inter = countries_com.intersection(countries_temp)\n",
    "print(f\"There are {len(countries_inter)} country names that appear in both datasets\")"
   ]
  },
  {
   "cell_type": "code",
   "execution_count": 10,
   "id": "8c08182f",
   "metadata": {},
   "outputs": [
    {
     "name": "stdout",
     "output_type": "stream",
     "text": [
      "The following country names from the temperature data could not be found in the commercial data:\n",
      "Congo (Democratic Republic Of The)\n",
      "Côte D'Ivoire\n",
      "South Africa\n",
      "Taiwan\n",
      "Germany\n",
      "Burma\n",
      "Sudan\n",
      "United States\n",
      "Syria\n",
      "China\n"
     ]
    }
   ],
   "source": [
    "# Since most of the temp countries fit inside of the commercial, let's see which ones do not\n",
    "print(\"The following country names from the temperature data could not be found in the commercial data:\")\n",
    "print_statement = [print(each) for each in countries_temp.difference(countries_com)]"
   ]
  },
  {
   "cell_type": "code",
   "execution_count": 11,
   "id": "6eb16dd1",
   "metadata": {},
   "outputs": [],
   "source": [
    "# We are going to rename the commercial_df to match the temp_df. We could go the other direction, but... \n",
    "# The temperature data labels make more sense\n",
    "country_mapper = { \n",
    "    \"Myanmar (Burma)\" : \"Burma\",\n",
    "    \"China (Mainland)\" : \"China\",\n",
    "    \"China (Taiwan)\" : \"Taiwan\",\n",
    "    \"Congo (Kinshasa)\" : \"Congo (Democratic Republic Of The)\",\n",
    "    \"German Democratic Republic\" : \"Germany\",\n",
    "    \"Germany, Fed. Republic\" : \"Germany\",\n",
    "    \"Ivory Coast\" : \"Côte D'Ivoire\",\n",
    "    \"Republic of South Africa\" : \"South Africa\",\n",
    "}\n",
    "commercial_df.GEOGRAPHY_DESC.replace(country_mapper, inplace=True)"
   ]
  },
  {
   "cell_type": "markdown",
   "id": "5d257bb9",
   "metadata": {},
   "source": [
    "Interestingly, there were no aquacultural exports to Sudan or Syria during this time"
   ]
  },
  {
   "cell_type": "code",
   "execution_count": 12,
   "id": "583a0da3",
   "metadata": {},
   "outputs": [
    {
     "name": "stdout",
     "output_type": "stream",
     "text": [
      "These Countries could not be matched:\n",
      "Syria\n",
      "United States\n",
      "Sudan\n"
     ]
    }
   ],
   "source": [
    "# And now the only countries that remain unmatched...\n",
    "countries_com = set(commercial_df.GEOGRAPHY_DESC)\n",
    "countries_temp = set(temp_df.Country)\n",
    "print(\"These Countries could not be matched:\")\n",
    "print_statement = [print(each) for each in countries_temp.difference(countries_com)]"
   ]
  },
  {
   "cell_type": "markdown",
   "id": "02813f7d",
   "metadata": {},
   "source": [
    "There is just one issue remaining. We mapped two countries (The Germanies) onto one country name. We should also map their 'GEOGRAPHY_CODE' onto one ID as well. Let's see what the IDs are for Germany:"
   ]
  },
  {
   "cell_type": "code",
   "execution_count": 13,
   "id": "fbe2b082",
   "metadata": {},
   "outputs": [
    {
     "data": {
      "text/plain": [
       "4280    9574\n",
       "4290       8\n",
       "Name: GEOGRAPHY_CODE, dtype: int64"
      ]
     },
     "execution_count": 13,
     "metadata": {},
     "output_type": "execute_result"
    }
   ],
   "source": [
    "commercial_df[commercial_df.GEOGRAPHY_DESC == \"Germany\"][\"GEOGRAPHY_CODE\"].value_counts()"
   ]
  },
  {
   "cell_type": "markdown",
   "id": "6ef28a92",
   "metadata": {},
   "source": [
    "It looks like there are only a few trades with '4290' code. This makes sense because the 'German Democratic Republic' was dissolved about a year into our commercial dataset. Let's check our intuitions..."
   ]
  },
  {
   "cell_type": "code",
   "execution_count": 14,
   "id": "ad4cb3f4",
   "metadata": {},
   "outputs": [
    {
     "data": {
      "text/html": [
       "<div>\n",
       "<style scoped>\n",
       "    .dataframe tbody tr th:only-of-type {\n",
       "        vertical-align: middle;\n",
       "    }\n",
       "\n",
       "    .dataframe tbody tr th {\n",
       "        vertical-align: top;\n",
       "    }\n",
       "\n",
       "    .dataframe thead th {\n",
       "        text-align: right;\n",
       "    }\n",
       "</style>\n",
       "<table border=\"1\" class=\"dataframe\">\n",
       "  <thead>\n",
       "    <tr style=\"text-align: right;\">\n",
       "      <th></th>\n",
       "      <th>HS_CODE</th>\n",
       "      <th>COMMODITY_DESC</th>\n",
       "      <th>GEOGRAPHY_CODE</th>\n",
       "      <th>GEOGRAPHY_DESC</th>\n",
       "      <th>ATTRIBUTE_DESC</th>\n",
       "      <th>UNIT_DESC</th>\n",
       "      <th>YEAR_ID</th>\n",
       "      <th>TIMEPERIOD_ID</th>\n",
       "      <th>AMOUNT</th>\n",
       "      <th>Direction</th>\n",
       "      <th>Measure</th>\n",
       "    </tr>\n",
       "  </thead>\n",
       "  <tbody>\n",
       "    <tr>\n",
       "      <th>319090</th>\n",
       "      <td>306130020.0</td>\n",
       "      <td>SHRIMPS AND PRAWNS, SHELL-ON, FROZEN</td>\n",
       "      <td>4290</td>\n",
       "      <td>Germany</td>\n",
       "      <td>US Import, QTY</td>\n",
       "      <td>KG</td>\n",
       "      <td>1989</td>\n",
       "      <td>11</td>\n",
       "      <td>16000</td>\n",
       "      <td>US Import</td>\n",
       "      <td>QTY</td>\n",
       "    </tr>\n",
       "    <tr>\n",
       "      <th>319091</th>\n",
       "      <td>306130020.0</td>\n",
       "      <td>SHRIMPS AND PRAWNS, SHELL-ON, FROZEN</td>\n",
       "      <td>4290</td>\n",
       "      <td>Germany</td>\n",
       "      <td>US Import, VLU</td>\n",
       "      <td>U.S.$</td>\n",
       "      <td>1989</td>\n",
       "      <td>11</td>\n",
       "      <td>122171</td>\n",
       "      <td>US Import</td>\n",
       "      <td>VLU</td>\n",
       "    </tr>\n",
       "    <tr>\n",
       "      <th>319092</th>\n",
       "      <td>NaN</td>\n",
       "      <td>Shrimp, frozen</td>\n",
       "      <td>4290</td>\n",
       "      <td>Germany</td>\n",
       "      <td>US Import, QTY</td>\n",
       "      <td>KG</td>\n",
       "      <td>1989</td>\n",
       "      <td>11</td>\n",
       "      <td>16000</td>\n",
       "      <td>US Import</td>\n",
       "      <td>QTY</td>\n",
       "    </tr>\n",
       "    <tr>\n",
       "      <th>319093</th>\n",
       "      <td>NaN</td>\n",
       "      <td>Shrimp, frozen</td>\n",
       "      <td>4290</td>\n",
       "      <td>Germany</td>\n",
       "      <td>US Import, VLU</td>\n",
       "      <td>U.S.$</td>\n",
       "      <td>1989</td>\n",
       "      <td>11</td>\n",
       "      <td>122171</td>\n",
       "      <td>US Import</td>\n",
       "      <td>VLU</td>\n",
       "    </tr>\n",
       "    <tr>\n",
       "      <th>319094</th>\n",
       "      <td>NaN</td>\n",
       "      <td>Shrimp, total</td>\n",
       "      <td>4290</td>\n",
       "      <td>Germany</td>\n",
       "      <td>US Import, QTY</td>\n",
       "      <td>KG</td>\n",
       "      <td>1989</td>\n",
       "      <td>11</td>\n",
       "      <td>16000</td>\n",
       "      <td>US Import</td>\n",
       "      <td>QTY</td>\n",
       "    </tr>\n",
       "    <tr>\n",
       "      <th>319095</th>\n",
       "      <td>NaN</td>\n",
       "      <td>Shrimp, total</td>\n",
       "      <td>4290</td>\n",
       "      <td>Germany</td>\n",
       "      <td>US Import, VLU</td>\n",
       "      <td>U.S.$</td>\n",
       "      <td>1989</td>\n",
       "      <td>11</td>\n",
       "      <td>122171</td>\n",
       "      <td>US Import</td>\n",
       "      <td>VLU</td>\n",
       "    </tr>\n",
       "    <tr>\n",
       "      <th>240232</th>\n",
       "      <td>301100000.0</td>\n",
       "      <td>FISH, ORNAMENTAL, LIVE</td>\n",
       "      <td>4290</td>\n",
       "      <td>Germany</td>\n",
       "      <td>US Export, VLU</td>\n",
       "      <td>U.S.$</td>\n",
       "      <td>1989</td>\n",
       "      <td>1</td>\n",
       "      <td>2501</td>\n",
       "      <td>US Export</td>\n",
       "      <td>VLU</td>\n",
       "    </tr>\n",
       "    <tr>\n",
       "      <th>240233</th>\n",
       "      <td>NaN</td>\n",
       "      <td>Ornamental fish</td>\n",
       "      <td>4290</td>\n",
       "      <td>Germany</td>\n",
       "      <td>US Export, VLU</td>\n",
       "      <td>U.S.$</td>\n",
       "      <td>1989</td>\n",
       "      <td>1</td>\n",
       "      <td>2501</td>\n",
       "      <td>US Export</td>\n",
       "      <td>VLU</td>\n",
       "    </tr>\n",
       "  </tbody>\n",
       "</table>\n",
       "</div>"
      ],
      "text/plain": [
       "            HS_CODE                        COMMODITY_DESC  GEOGRAPHY_CODE  \\\n",
       "319090  306130020.0  SHRIMPS AND PRAWNS, SHELL-ON, FROZEN            4290   \n",
       "319091  306130020.0  SHRIMPS AND PRAWNS, SHELL-ON, FROZEN            4290   \n",
       "319092          NaN                        Shrimp, frozen            4290   \n",
       "319093          NaN                        Shrimp, frozen            4290   \n",
       "319094          NaN                         Shrimp, total            4290   \n",
       "319095          NaN                         Shrimp, total            4290   \n",
       "240232  301100000.0                FISH, ORNAMENTAL, LIVE            4290   \n",
       "240233          NaN                       Ornamental fish            4290   \n",
       "\n",
       "       GEOGRAPHY_DESC  ATTRIBUTE_DESC UNIT_DESC  YEAR_ID  TIMEPERIOD_ID  \\\n",
       "319090        Germany  US Import, QTY        KG     1989             11   \n",
       "319091        Germany  US Import, VLU     U.S.$     1989             11   \n",
       "319092        Germany  US Import, QTY        KG     1989             11   \n",
       "319093        Germany  US Import, VLU     U.S.$     1989             11   \n",
       "319094        Germany  US Import, QTY        KG     1989             11   \n",
       "319095        Germany  US Import, VLU     U.S.$     1989             11   \n",
       "240232        Germany  US Export, VLU     U.S.$     1989              1   \n",
       "240233        Germany  US Export, VLU     U.S.$     1989              1   \n",
       "\n",
       "        AMOUNT  Direction Measure  \n",
       "319090   16000  US Import     QTY  \n",
       "319091  122171  US Import     VLU  \n",
       "319092   16000  US Import     QTY  \n",
       "319093  122171  US Import     VLU  \n",
       "319094   16000  US Import     QTY  \n",
       "319095  122171  US Import     VLU  \n",
       "240232    2501  US Export     VLU  \n",
       "240233    2501  US Export     VLU  "
      ]
     },
     "execution_count": 14,
     "metadata": {},
     "output_type": "execute_result"
    }
   ],
   "source": [
    "commercial_df[commercial_df.GEOGRAPHY_CODE == 4290]"
   ]
  },
  {
   "cell_type": "markdown",
   "id": "3090d627",
   "metadata": {},
   "source": [
    "And there we go! Isn't history fun? Ok let's get back to the Data Cleaning. We are just going to map those few communist Germans into their new united Germany"
   ]
  },
  {
   "cell_type": "code",
   "execution_count": 15,
   "id": "d0ab345b",
   "metadata": {},
   "outputs": [],
   "source": [
    "commercial_df.GEOGRAPHY_CODE.replace({4290 : 4280} , inplace=True)"
   ]
  },
  {
   "cell_type": "code",
   "execution_count": 16,
   "id": "fca96308",
   "metadata": {},
   "outputs": [
    {
     "data": {
      "text/plain": [
       "4280    9582\n",
       "Name: GEOGRAPHY_CODE, dtype: int64"
      ]
     },
     "execution_count": 16,
     "metadata": {},
     "output_type": "execute_result"
    }
   ],
   "source": [
    "commercial_df[commercial_df.GEOGRAPHY_DESC == \"Germany\"][\"GEOGRAPHY_CODE\"].value_counts()"
   ]
  },
  {
   "cell_type": "code",
   "execution_count": null,
   "id": "b14b8864",
   "metadata": {},
   "outputs": [],
   "source": []
  }
 ],
 "metadata": {
  "kernelspec": {
   "display_name": "Python [conda env:PythonData] *",
   "language": "python",
   "name": "conda-env-PythonData-py"
  },
  "language_info": {
   "codemirror_mode": {
    "name": "ipython",
    "version": 3
   },
   "file_extension": ".py",
   "mimetype": "text/x-python",
   "name": "python",
   "nbconvert_exporter": "python",
   "pygments_lexer": "ipython3",
   "version": "3.6.10"
  }
 },
 "nbformat": 4,
 "nbformat_minor": 5
}
